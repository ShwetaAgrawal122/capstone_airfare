{
 "cells": [
  {
   "cell_type": "markdown",
   "metadata": {},
   "source": [
    "#### Problem statement:\n",
    "\n",
    "If someone is considering to book a flight but it doesn’t matter what month or \n",
    "time he/she travels than get to know the  airfare ahead of time can be very \n",
    "beneficial so they can plan the trip accordingly.\n",
    "\n",
    "Using Time series and other regression Model I’ll try to predict the \n",
    "Flight ticket pricing for different airlines such as United, Lufthansa."
   ]
  },
  {
   "cell_type": "markdown",
   "metadata": {},
   "source": [
    "#### Data :\n",
    "\n",
    "Rest API https://english.api.rakuten.net/skyscanner/api/skyscanner-flight-search from skyscanner.\n",
    "\n",
    "Google Flight API \n",
    "\n",
    "Fareportal API"
   ]
  },
  {
   "cell_type": "markdown",
   "metadata": {},
   "source": [
    "#### Measurable:\n",
    "\n",
    "I am planning to use MSE to check the Model fit.\n"
   ]
  },
  {
   "cell_type": "code",
   "execution_count": null,
   "metadata": {},
   "outputs": [],
   "source": []
  }
 ],
 "metadata": {
  "kernelspec": {
   "display_name": "Python 3",
   "language": "python",
   "name": "python3"
  },
  "language_info": {
   "codemirror_mode": {
    "name": "ipython",
    "version": 3
   },
   "file_extension": ".py",
   "mimetype": "text/x-python",
   "name": "python",
   "nbconvert_exporter": "python",
   "pygments_lexer": "ipython3",
   "version": "3.8.5"
  }
 },
 "nbformat": 4,
 "nbformat_minor": 4
}
