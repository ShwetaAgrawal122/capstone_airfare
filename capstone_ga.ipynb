{
 "cells": [
  {
   "cell_type": "markdown",
   "metadata": {},
   "source": [
    "#### Problem statement:\n",
    "\n",
    "If someone is considering to book a flight but it doesn’t matter what month or \n",
    "time he/she travels than get to know the  airfare ahead of time can be very \n",
    "beneficial so they can plan the trip accordingly.\n",
    "\n",
    "Using Time series and other regression Model I’ll try to predict the \n",
    "Flight ticket pricing for different airlines such as United, Lufthansa."
   ]
  },
  {
   "cell_type": "markdown",
   "metadata": {},
   "source": [
    "#### Data :\n",
    "\n",
    "Rest API https://english.api.rakuten.net/skyscanner/api/skyscanner-flight-search from skyscanner.\n",
    "\n",
    "Google Flight API \n",
    "\n",
    "Fareportal API"
   ]
  },
  {
   "cell_type": "markdown",
   "metadata": {},
   "source": [
    "#### Measurable:\n",
    "\n",
    "I am planning to use MSE to check the Model fit.\n"
   ]
  },
  {
   "cell_type": "code",
   "execution_count": 1,
   "metadata": {},
   "outputs": [],
   "source": [
    "import numpy as np\n",
    "import pandas as pd"
   ]
  },
  {
   "cell_type": "code",
   "execution_count": 2,
   "metadata": {},
   "outputs": [],
   "source": [
    "df = pd.read_csv('./848669477_T_DB1B_TICKET.csv')"
   ]
  },
  {
   "cell_type": "code",
   "execution_count": 3,
   "metadata": {},
   "outputs": [
    {
     "data": {
      "text/html": [
       "<div>\n",
       "<style scoped>\n",
       "    .dataframe tbody tr th:only-of-type {\n",
       "        vertical-align: middle;\n",
       "    }\n",
       "\n",
       "    .dataframe tbody tr th {\n",
       "        vertical-align: top;\n",
       "    }\n",
       "\n",
       "    .dataframe thead th {\n",
       "        text-align: right;\n",
       "    }\n",
       "</style>\n",
       "<table border=\"1\" class=\"dataframe\">\n",
       "  <thead>\n",
       "    <tr style=\"text-align: right;\">\n",
       "      <th></th>\n",
       "      <th>ITIN_ID</th>\n",
       "      <th>COUPONS</th>\n",
       "      <th>YEAR</th>\n",
       "      <th>QUARTER</th>\n",
       "      <th>ORIGIN</th>\n",
       "      <th>ORIGIN_AIRPORT_ID</th>\n",
       "      <th>ORIGIN_AIRPORT_SEQ_ID</th>\n",
       "      <th>ORIGIN_CITY_MARKET_ID</th>\n",
       "      <th>ORIGIN_COUNTRY</th>\n",
       "      <th>ORIGIN_STATE_FIPS</th>\n",
       "      <th>...</th>\n",
       "      <th>ITIN_YIELD</th>\n",
       "      <th>REPORTING_CARRIER</th>\n",
       "      <th>PASSENGERS</th>\n",
       "      <th>ITIN_FARE</th>\n",
       "      <th>BULK_FARE</th>\n",
       "      <th>DISTANCE</th>\n",
       "      <th>DISTANCE_GROUP</th>\n",
       "      <th>MILES_FLOWN</th>\n",
       "      <th>ITIN_GEO_TYPE</th>\n",
       "      <th>Unnamed: 25</th>\n",
       "    </tr>\n",
       "  </thead>\n",
       "  <tbody>\n",
       "    <tr>\n",
       "      <th>0</th>\n",
       "      <td>199317</td>\n",
       "      <td>3</td>\n",
       "      <td>1993</td>\n",
       "      <td>1</td>\n",
       "      <td>ABE</td>\n",
       "      <td>10135</td>\n",
       "      <td>1013501</td>\n",
       "      <td>30135</td>\n",
       "      <td>US</td>\n",
       "      <td>42</td>\n",
       "      <td>...</td>\n",
       "      <td>0.2857</td>\n",
       "      <td>AA</td>\n",
       "      <td>1.0</td>\n",
       "      <td>659.0</td>\n",
       "      <td>0.0</td>\n",
       "      <td>2307.0</td>\n",
       "      <td>5</td>\n",
       "      <td>2307.0</td>\n",
       "      <td>1</td>\n",
       "      <td>NaN</td>\n",
       "    </tr>\n",
       "    <tr>\n",
       "      <th>1</th>\n",
       "      <td>199318</td>\n",
       "      <td>6</td>\n",
       "      <td>1993</td>\n",
       "      <td>1</td>\n",
       "      <td>ABE</td>\n",
       "      <td>10135</td>\n",
       "      <td>1013501</td>\n",
       "      <td>30135</td>\n",
       "      <td>US</td>\n",
       "      <td>42</td>\n",
       "      <td>...</td>\n",
       "      <td>0.0000</td>\n",
       "      <td>AA</td>\n",
       "      <td>1.0</td>\n",
       "      <td>0.0</td>\n",
       "      <td>0.0</td>\n",
       "      <td>4768.0</td>\n",
       "      <td>10</td>\n",
       "      <td>4768.0</td>\n",
       "      <td>2</td>\n",
       "      <td>NaN</td>\n",
       "    </tr>\n",
       "    <tr>\n",
       "      <th>2</th>\n",
       "      <td>199319</td>\n",
       "      <td>2</td>\n",
       "      <td>1993</td>\n",
       "      <td>1</td>\n",
       "      <td>ABE</td>\n",
       "      <td>10135</td>\n",
       "      <td>1013501</td>\n",
       "      <td>30135</td>\n",
       "      <td>US</td>\n",
       "      <td>42</td>\n",
       "      <td>...</td>\n",
       "      <td>0.6690</td>\n",
       "      <td>AA</td>\n",
       "      <td>2.0</td>\n",
       "      <td>875.0</td>\n",
       "      <td>0.0</td>\n",
       "      <td>1308.0</td>\n",
       "      <td>3</td>\n",
       "      <td>1308.0</td>\n",
       "      <td>2</td>\n",
       "      <td>NaN</td>\n",
       "    </tr>\n",
       "    <tr>\n",
       "      <th>3</th>\n",
       "      <td>1993110</td>\n",
       "      <td>2</td>\n",
       "      <td>1993</td>\n",
       "      <td>1</td>\n",
       "      <td>ABE</td>\n",
       "      <td>10135</td>\n",
       "      <td>1013501</td>\n",
       "      <td>30135</td>\n",
       "      <td>US</td>\n",
       "      <td>42</td>\n",
       "      <td>...</td>\n",
       "      <td>0.1911</td>\n",
       "      <td>AA</td>\n",
       "      <td>2.0</td>\n",
       "      <td>250.0</td>\n",
       "      <td>0.0</td>\n",
       "      <td>1308.0</td>\n",
       "      <td>3</td>\n",
       "      <td>1308.0</td>\n",
       "      <td>2</td>\n",
       "      <td>NaN</td>\n",
       "    </tr>\n",
       "    <tr>\n",
       "      <th>4</th>\n",
       "      <td>1993111</td>\n",
       "      <td>2</td>\n",
       "      <td>1993</td>\n",
       "      <td>1</td>\n",
       "      <td>ABE</td>\n",
       "      <td>10135</td>\n",
       "      <td>1013501</td>\n",
       "      <td>30135</td>\n",
       "      <td>US</td>\n",
       "      <td>42</td>\n",
       "      <td>...</td>\n",
       "      <td>0.1636</td>\n",
       "      <td>AA</td>\n",
       "      <td>2.0</td>\n",
       "      <td>214.0</td>\n",
       "      <td>0.0</td>\n",
       "      <td>1308.0</td>\n",
       "      <td>3</td>\n",
       "      <td>1308.0</td>\n",
       "      <td>2</td>\n",
       "      <td>NaN</td>\n",
       "    </tr>\n",
       "  </tbody>\n",
       "</table>\n",
       "<p>5 rows × 26 columns</p>\n",
       "</div>"
      ],
      "text/plain": [
       "   ITIN_ID  COUPONS  YEAR  QUARTER ORIGIN  ORIGIN_AIRPORT_ID  \\\n",
       "0   199317        3  1993        1    ABE              10135   \n",
       "1   199318        6  1993        1    ABE              10135   \n",
       "2   199319        2  1993        1    ABE              10135   \n",
       "3  1993110        2  1993        1    ABE              10135   \n",
       "4  1993111        2  1993        1    ABE              10135   \n",
       "\n",
       "   ORIGIN_AIRPORT_SEQ_ID  ORIGIN_CITY_MARKET_ID ORIGIN_COUNTRY  \\\n",
       "0                1013501                  30135             US   \n",
       "1                1013501                  30135             US   \n",
       "2                1013501                  30135             US   \n",
       "3                1013501                  30135             US   \n",
       "4                1013501                  30135             US   \n",
       "\n",
       "   ORIGIN_STATE_FIPS  ... ITIN_YIELD REPORTING_CARRIER  PASSENGERS  ITIN_FARE  \\\n",
       "0                 42  ...     0.2857                AA         1.0      659.0   \n",
       "1                 42  ...     0.0000                AA         1.0        0.0   \n",
       "2                 42  ...     0.6690                AA         2.0      875.0   \n",
       "3                 42  ...     0.1911                AA         2.0      250.0   \n",
       "4                 42  ...     0.1636                AA         2.0      214.0   \n",
       "\n",
       "   BULK_FARE  DISTANCE  DISTANCE_GROUP MILES_FLOWN  ITIN_GEO_TYPE  Unnamed: 25  \n",
       "0        0.0    2307.0               5      2307.0              1          NaN  \n",
       "1        0.0    4768.0              10      4768.0              2          NaN  \n",
       "2        0.0    1308.0               3      1308.0              2          NaN  \n",
       "3        0.0    1308.0               3      1308.0              2          NaN  \n",
       "4        0.0    1308.0               3      1308.0              2          NaN  \n",
       "\n",
       "[5 rows x 26 columns]"
      ]
     },
     "execution_count": 3,
     "metadata": {},
     "output_type": "execute_result"
    }
   ],
   "source": [
    "df.head()"
   ]
  },
  {
   "cell_type": "code",
   "execution_count": 4,
   "metadata": {},
   "outputs": [
    {
     "data": {
      "text/plain": [
       "(1490952, 26)"
      ]
     },
     "execution_count": 4,
     "metadata": {},
     "output_type": "execute_result"
    }
   ],
   "source": [
    "df.shape"
   ]
  },
  {
   "cell_type": "code",
   "execution_count": 5,
   "metadata": {},
   "outputs": [
    {
     "data": {
      "text/plain": [
       "Index(['ITIN_ID', 'COUPONS', 'YEAR', 'QUARTER', 'ORIGIN', 'ORIGIN_AIRPORT_ID',\n",
       "       'ORIGIN_AIRPORT_SEQ_ID', 'ORIGIN_CITY_MARKET_ID', 'ORIGIN_COUNTRY',\n",
       "       'ORIGIN_STATE_FIPS', 'ORIGIN_STATE_ABR', 'ORIGIN_STATE_NM',\n",
       "       'ORIGIN_WAC', 'ROUNDTRIP', 'ONLINE', 'DOLLAR_CRED', 'ITIN_YIELD',\n",
       "       'REPORTING_CARRIER', 'PASSENGERS', 'ITIN_FARE', 'BULK_FARE', 'DISTANCE',\n",
       "       'DISTANCE_GROUP', 'MILES_FLOWN', 'ITIN_GEO_TYPE', 'Unnamed: 25'],\n",
       "      dtype='object')"
      ]
     },
     "execution_count": 5,
     "metadata": {},
     "output_type": "execute_result"
    }
   ],
   "source": [
    "df.columns"
   ]
  },
  {
   "cell_type": "code",
   "execution_count": 7,
   "metadata": {},
   "outputs": [
    {
     "name": "stdout",
     "output_type": "stream",
     "text": [
      "<class 'pandas.core.frame.DataFrame'>\n",
      "RangeIndex: 1490952 entries, 0 to 1490951\n",
      "Data columns (total 26 columns):\n",
      " #   Column                 Non-Null Count    Dtype  \n",
      "---  ------                 --------------    -----  \n",
      " 0   ITIN_ID                1490952 non-null  int64  \n",
      " 1   COUPONS                1490952 non-null  int64  \n",
      " 2   YEAR                   1490952 non-null  int64  \n",
      " 3   QUARTER                1490952 non-null  int64  \n",
      " 4   ORIGIN                 1490952 non-null  object \n",
      " 5   ORIGIN_AIRPORT_ID      1490952 non-null  int64  \n",
      " 6   ORIGIN_AIRPORT_SEQ_ID  1490952 non-null  int64  \n",
      " 7   ORIGIN_CITY_MARKET_ID  1490952 non-null  int64  \n",
      " 8   ORIGIN_COUNTRY         1490952 non-null  object \n",
      " 9   ORIGIN_STATE_FIPS      1490952 non-null  int64  \n",
      " 10  ORIGIN_STATE_ABR       1490952 non-null  object \n",
      " 11  ORIGIN_STATE_NM        1490952 non-null  object \n",
      " 12  ORIGIN_WAC             1490952 non-null  int64  \n",
      " 13  ROUNDTRIP              1490952 non-null  float64\n",
      " 14  ONLINE                 1490952 non-null  float64\n",
      " 15  DOLLAR_CRED            1490952 non-null  int64  \n",
      " 16  ITIN_YIELD             1490952 non-null  float64\n",
      " 17  REPORTING_CARRIER      1490952 non-null  object \n",
      " 18  PASSENGERS             1490952 non-null  float64\n",
      " 19  ITIN_FARE              1490952 non-null  float64\n",
      " 20  BULK_FARE              1490952 non-null  float64\n",
      " 21  DISTANCE               1490952 non-null  float64\n",
      " 22  DISTANCE_GROUP         1490952 non-null  int64  \n",
      " 23  MILES_FLOWN            1490952 non-null  float64\n",
      " 24  ITIN_GEO_TYPE          1490952 non-null  int64  \n",
      " 25  Unnamed: 25            0 non-null        float64\n",
      "dtypes: float64(9), int64(12), object(5)\n",
      "memory usage: 295.8+ MB\n"
     ]
    }
   ],
   "source": [
    "df.info()"
   ]
  },
  {
   "cell_type": "code",
   "execution_count": null,
   "metadata": {},
   "outputs": [],
   "source": []
  },
  {
   "cell_type": "code",
   "execution_count": null,
   "metadata": {},
   "outputs": [],
   "source": []
  }
 ],
 "metadata": {
  "kernelspec": {
   "display_name": "Python 3",
   "language": "python",
   "name": "python3"
  },
  "language_info": {
   "codemirror_mode": {
    "name": "ipython",
    "version": 3
   },
   "file_extension": ".py",
   "mimetype": "text/x-python",
   "name": "python",
   "nbconvert_exporter": "python",
   "pygments_lexer": "ipython3",
   "version": "3.8.5"
  }
 },
 "nbformat": 4,
 "nbformat_minor": 4
}
